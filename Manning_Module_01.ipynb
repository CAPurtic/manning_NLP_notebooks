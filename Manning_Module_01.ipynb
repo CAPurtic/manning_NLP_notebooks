{
 "cells": [
  {
   "cell_type": "code",
   "execution_count": 1,
   "metadata": {},
   "outputs": [],
   "source": [
    "import altair as alt\n",
    "from imblearn.under_sampling import RandomUnderSampler\n",
    "import pandas as pd"
   ]
  },
  {
   "cell_type": "code",
   "execution_count": 2,
   "metadata": {},
   "outputs": [],
   "source": [
    "video_game_reviews = pd.read_json(\n",
    "    \"C:\\\\Users\\\\chris\\\\OneDrive\\\\Professional\\\\EPAM\\\\growth-hacking-sentiment\\\\Video_Games_5.json\",\n",
    "    lines=True,\n",
    ")"
   ]
  },
  {
   "cell_type": "code",
   "execution_count": 3,
   "metadata": {},
   "outputs": [],
   "source": [
    "chart = (\n",
    "    alt.Chart(video_game_reviews)\n",
    "    .mark_bar()\n",
    "    .encode(\n",
    "        alt.X(\"overall\", bin=False),\n",
    "        y=\"count()\",\n",
    "    )\n",
    ")\n",
    "alt.renderers.enable(\"altair_viewer\")\n",
    "chart.save(\"video_game_ratings_histogram.html\")"
   ]
  },
  {
   "cell_type": "code",
   "execution_count": 4,
   "metadata": {},
   "outputs": [],
   "source": [
    "rus = RandomUnderSampler(\n",
    "    sampling_strategy={1: 1500, 2: 500, 3: 500, 4: 500, 5: 1500}, random_state=42\n",
    ")\n",
    "small_corpus, y_resampled = rus.fit_resample(\n",
    "    video_game_reviews, video_game_reviews[\"overall\"]\n",
    ")"
   ]
  },
  {
   "cell_type": "code",
   "execution_count": 5,
   "metadata": {},
   "outputs": [],
   "source": [
    "large_corpus = video_game_reviews.sample(\n",
    "    n=100000, replace=False, random_state=42, axis=0\n",
    ")"
   ]
  },
  {
   "cell_type": "code",
   "execution_count": 6,
   "metadata": {},
   "outputs": [],
   "source": [
    "small_corpus.to_csv(\n",
    "    \"small_corpus.csv\", columns=[\"overall\", \"summary\"], header=[\"ratings\", \"reviews\"]\n",
    ")\n",
    "large_corpus.reset_index().to_csv(\n",
    "    \"large_corpus.csv\", columns=[\"overall\", \"summary\"], header=[\"ratings\", \"reviews\"]\n",
    ")"
   ]
  }
 ],
 "metadata": {
  "kernelspec": {
   "name": "python394jvsc74a57bd057990f1ad2ea89c67ddae7f31d40c478205c5912da0fccfb7c5cfbb2b8bf17ad",
   "display_name": "Python 3.9.4 64-bit"
  },
  "language_info": {
   "codemirror_mode": {
    "name": "ipython",
    "version": 3
   },
   "file_extension": ".py",
   "mimetype": "text/x-python",
   "name": "python",
   "nbconvert_exporter": "python",
   "pygments_lexer": "ipython3",
   "version": "3.9.4"
  }
 },
 "nbformat": 4,
 "nbformat_minor": 4
}